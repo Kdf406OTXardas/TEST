{
 "cells": [
  {
   "cell_type": "code",
   "execution_count": 1,
   "id": "ef16e2cb",
   "metadata": {},
   "outputs": [],
   "source": [
    "import numpy as np\n",
    "import matplotlib.pyplot as plt\n",
    "import random as rnd"
   ]
  },
  {
   "cell_type": "code",
   "execution_count": 2,
   "id": "c0646caf",
   "metadata": {},
   "outputs": [
    {
     "data": {
      "image/png": "[encoded data removed]",
      "text/plain": [
       "<Figure size 640x480 with 1 Axes>"
      ]
     },
     "metadata": {},
     "output_type": "display_data"
    }
   ],
   "source": [
    "concentrations = np.linspace(0.0, 10, 100)\n",
    "percent_adsorption = np.sqrt(concentrations)\n",
    "percent_desorption = concentrations[::-1]\n",
    "plt.plot(concentrations, percent_adsorption, label='absorbtion')\n",
    "plt.plot(concentrations, percent_desorption, label='desorbtion')\n",
    "plt.legend()\n",
    "plt.xlabel('Концентрация')\n",
    "conc_des = dict(zip(np.round(concentrations, 2), np.round(percent_adsorption, 3)))\n",
    "conc_ad = dict(zip(np.round(concentrations, 2), np.round(percent_desorption, 3)))"
   ]
  },
  {
   "cell_type": "code",
   "execution_count": 3,
   "id": "09f0e79d",
   "metadata": {},
   "outputs": [],
   "source": [
    "def desorption(x):\n",
    "    return np.sqrt(x)\n",
    "\n",
    "def adsorption(x):\n",
    "    return np.exp(-3 * x)"
   ]
  },
  {
   "cell_type": "code",
   "execution_count": 4,
   "id": "b6224c2a",
   "metadata": {},
   "outputs": [],
   "source": [
    "class Cell:\n",
    "    def __init__(self):\n",
    "        self.concetration_absorbate = 0.0\n",
    "        self.concetration_liquid = 0.0\n",
    "    \n",
    "    def new_concentration():\n",
    "        pass"
   ]
  },
  {
   "cell_type": "code",
   "execution_count": 5,
   "id": "a0ee8721",
   "metadata": {},
   "outputs": [],
   "source": [
    "SIZE_FIELD = 4\n",
    "field = [[[Cell() for _ in range(SIZE_FIELD + 2)] for _ in range(SIZE_FIELD + 2)] for _ in range(SIZE_FIELD + 2)]\n",
    "STEP_ADSORBER = 2\n",
    "\n",
    "list_random_choise_x_z = [-1, 0, 1]\n",
    "list_random_choise_y = [1]"
   ]
  },
  {
   "cell_type": "code",
   "execution_count": 6,
   "id": "5885fd48",
   "metadata": {},
   "outputs": [],
   "source": [
    "# def randomize_direction():\n",
    "#     return rnd.choice(list_random_choise_x_z)\n",
    "# print(randomize_direction())"
   ]
  },
  {
   "cell_type": "code",
   "execution_count": 7,
   "id": "800f94ed",
   "metadata": {},
   "outputs": [],
   "source": [
    "#делаем рандомное направление\n",
    "def randomize_direction():\n",
    "    return rnd.randint(list_random_choise_x_z)\n",
    "\n",
    "\n",
    "def change_concentration_from_liq(coords_from, coords_to):\n",
    "    \n",
    "    delta = field[coords_from[0]][coords_from[1]][coords_from[2]].concetration_liquid - field[coords_to[0]][coords_to[1]][coords_to[2]].concetration_absorbate\n",
    "        \n",
    "    ability = adsorption(field[coords_to[0]][coords_to[1]][coords_to[2]].concetration_absorbate)\n",
    "    \n",
    "    to_refresh = min(delta * 0.5,\n",
    "                     ability,\n",
    "                     desorption(field[coords_from[0]][coords_from[1]][coords_from[2]].concetration_liquid))\n",
    "    \n",
    "    field[coords_from[0]][coords_from[1]][coords_from[2]].concetration_liquid -= to_refresh\n",
    "    \n",
    "    field[coords_to[0]][coords_to[1]][coords_to[2]].concetration_absorbate += to_refresh\n",
    "\n",
    "\n",
    "def change_concentration_from_abs(coords_from, coords_to):\n",
    "    \n",
    "    to_rnd = rnd.choice(list_random_choise_x_z)\n",
    "    \n",
    "    delta = field[coords_from[0]][coords_from[1]][coords_from[2]].concetration_absorbate - field[coords_to[0]][coords_to[1] + to_rnd][coords_to[2] + to_rnd].concetration_absorbate\n",
    "        \n",
    "    ability = adsorption(field[coords_to[0]][coords_to[1] + to_rnd][coords_to[2] + to_rnd].concetration_absorbate)\n",
    "    \n",
    "    to_refresh = min(delta * 0.5,\n",
    "                     ability,\n",
    "                     desorption(field[coords_from[0]][coords_from[1]][coords_from[2]].concetration_absorbate))\n",
    "    \n",
    "    field[coords_from[0]][coords_from[1]][coords_from[2]].concetration_absorbate -= to_refresh\n",
    "    \n",
    "    field[coords_to[0]][coords_to[1] + to_rnd][coords_to[2] + to_rnd].concetration_absorbate += to_refresh"
   ]
  },
  {
   "cell_type": "code",
   "execution_count": 8,
   "id": "f83bb07c",
   "metadata": {},
   "outputs": [],
   "source": [
    "# randomize_direction()\n",
    "# change_concentration_from_liq(0, 0)\n",
    "\n",
    "# for i in range(3):\n",
    "#     change_concentration_from_abs(i, i + 1)"
   ]
  },
  {
   "cell_type": "code",
   "execution_count": 9,
   "id": "caccdbcc",
   "metadata": {},
   "outputs": [
    {
     "name": "stdout",
     "output_type": "stream",
     "text": [
      "ads_1_1 0.025\n",
      "liq_1_1 0.05\n",
      "ads_1_1 0.037500000000000006\n",
      "liq_1_1 0.05\n",
      "ads_1_1 0.025\n",
      "liq_1_1 0.05\n",
      "ads_2_1 0.025\n",
      "liq_2_1 0.05\n",
      "ads_2_1 0.025\n",
      "liq_2_1 0.05\n",
      "ads_2_1 0.025\n",
      "liq_2_1 0.05\n",
      "ads_3_1 0.025\n",
      "liq_3_1 0.05\n",
      "ads_3_1 0.025\n",
      "liq_3_1 0.05\n",
      "ads_3_1 0.025\n",
      "liq_3_1 0.05\n",
      "ads_1_2 0.0\n",
      "liq_1_2 0.0\n",
      "ads_1_2 0.0\n",
      "liq_1_2 0.0\n",
      "ads_1_2 0.0\n",
      "liq_1_2 0.0\n",
      "ads_2_2 0.0\n",
      "liq_2_2 0.0\n",
      "ads_2_2 0.0125\n",
      "liq_2_2 0.0\n",
      "ads_2_2 0.00625\n",
      "liq_2_2 0.0\n",
      "ads_3_2 0.0\n",
      "liq_3_2 0.0\n",
      "ads_3_2 0.0\n",
      "liq_3_2 0.0\n",
      "ads_3_2 0.0125\n",
      "liq_3_2 0.0\n",
      "ads_1_3 0.0\n",
      "liq_1_3 0.0\n",
      "ads_1_3 0.0\n",
      "liq_1_3 0.0\n",
      "ads_1_3 0.0\n",
      "liq_1_3 0.0\n",
      "ads_2_3 0.0\n",
      "liq_2_3 0.0\n",
      "ads_2_3 0.0125\n",
      "liq_2_3 0.0\n",
      "ads_2_3 0.00625\n",
      "liq_2_3 0.0\n",
      "ads_3_3 0.0\n",
      "liq_3_3 0.0\n",
      "ads_3_3 0.0\n",
      "liq_3_3 0.0\n",
      "ads_3_3 0.0125\n",
      "liq_3_3 0.0\n",
      "ads_1_1 0.034375\n",
      "liq_1_1 0.06875\n",
      "ads_1_1 0.034375\n",
      "liq_1_1 0.06875\n",
      "ads_1_1 0.0375\n",
      "liq_1_1 0.0625\n",
      "ads_2_1 0.0328125\n",
      "liq_2_1 0.0625\n",
      "ads_2_1 0.04765625\n",
      "liq_2_1 0.0625\n",
      "ads_2_1 0.0375\n",
      "liq_2_1 0.0625\n",
      "ads_3_1 0.03125\n",
      "liq_3_1 0.0625\n",
      "ads_3_1 0.034375\n",
      "liq_3_1 0.0625\n",
      "ads_3_1 0.03125\n",
      "liq_3_1 0.0625\n",
      "ads_1_2 0.0\n",
      "liq_1_2 0.0\n",
      "ads_1_2 0.0\n",
      "liq_1_2 0.0\n",
      "ads_1_2 0.0171875\n",
      "liq_1_2 0.0\n",
      "ads_2_2 0.0\n",
      "liq_2_2 0.0\n",
      "ads_2_2 0.017968750000000002\n",
      "liq_2_2 0.003125\n",
      "ads_2_2 0.027734375000000006\n",
      "liq_2_2 0.037500000000000006\n",
      "ads_3_2 0.015625\n",
      "liq_3_2 0.0\n",
      "ads_3_2 0.003125\n",
      "liq_3_2 0.00625\n",
      "ads_3_2 0.020312500000000004\n",
      "liq_3_2 0.037500000000000006\n",
      "ads_1_3 0.0\n",
      "liq_1_3 0.0\n",
      "ads_1_3 0.0171875\n",
      "liq_1_3 0.0\n",
      "ads_1_3 0.0171875\n",
      "liq_1_3 0.0\n",
      "ads_2_3 0.0\n",
      "liq_2_3 0.0\n",
      "ads_2_3 0.015234375\n",
      "liq_2_3 0.003125\n",
      "ads_2_3 0.0015625\n",
      "liq_2_3 0.003125\n",
      "ads_3_3 0.0\n",
      "liq_3_3 0.0\n",
      "ads_3_3 0.0015625\n",
      "liq_3_3 0.0\n",
      "ads_3_3 0.017968750000000002\n",
      "liq_3_3 0.00625\n"
     ]
    }
   ],
   "source": [
    "n = 1\n",
    "while field[SIZE_FIELD - 1][SIZE_FIELD - 1][SIZE_FIELD - 1].concetration_liquid ==0:\n",
    "    \n",
    "    n += 1\n",
    "    \n",
    "    for i in range(1, SIZE_FIELD + 1, 1):\n",
    "        for j in range(1, SIZE_FIELD + 1, 1):\n",
    "            field[i][1][j].concetration_liquid = 0.1\n",
    "\n",
    "    \n",
    "    for y in range(1, SIZE_FIELD + 1, 1):\n",
    "        for x in range(1, SIZE_FIELD + 1, 1):\n",
    "            for z in range(1, SIZE_FIELD + 1, 1):\n",
    "                change_concentration_from_liq([x, y, z], [x, y, z])\n",
    "        \n",
    "    if n + STEP_ADSORBER < SIZE_FIELD:\n",
    "        step_ads = n + STEP_ADSORBER\n",
    "    else:\n",
    "        step_ads = SIZE_FIELD\n",
    "        \n",
    "    for y in range(1, step_ads, 1):\n",
    "        for x in range(1, step_ads, 1):\n",
    "            for z in range(1, step_ads, 1):\n",
    "                change_concentration_from_abs([x, y, z], [x, y + 1, z])\n",
    "                print(f\"ads_{x}_{y} {field[x][y][z].concetration_absorbate}\")\n",
    "                print(f\"liq_{x}_{y} {field[x][y][z].concetration_liquid}\")\n",
    "        \n",
    "#     print([x.concetration_absorbate for x in field])\n",
    "#     print([x.concetration_liquid for x in field])\n",
    "    \n",
    "    for x in range(1, SIZE_FIELD + 1, 1):\n",
    "        for y in range(1, SIZE_FIELD + 1, 1):\n",
    "            field[-x][-y][-z].concetration_liquid = field[-x][-y - 1][-z].concetration_liquid\n",
    "            field[-x][-y][-z].concetration_absorbate = field[-x][-y - 1][-z].concetration_absorbate\n",
    "        \n",
    "#     print(f\"-------- {n} -------\")\n",
    "#     print([x.concetration_absorbate for x in field])\n",
    "#     print([x.concetration_liquid for x in field])"
   ]
  },
  {
   "cell_type": "code",
   "execution_count": 10,
   "id": "4c2f57b6",
   "metadata": {},
   "outputs": [
    {
     "name": "stdout",
     "output_type": "stream",
     "text": [
      "0.0\n",
      "0.0\n"
     ]
    }
   ],
   "source": [
    "print(field[0][0][0].concetration_absorbate)\n",
    "print(field[0][0][0].concetration_liquid)"
   ]
  },
  {
   "cell_type": "code",
   "execution_count": 11,
   "id": "10aa52e8",
   "metadata": {},
   "outputs": [],
   "source": [
    "# for x in range(SIZE_FIELD):\n",
    "#     for y in range(SIZE_FIELD):\n",
    "#         print(f\"abs {x} {field[x][y].concetration_absorbate}\")\n",
    "#         print(f\"liq {x} {field[x][y].concetration_liquid}\")"
   ]
  },
  {
   "cell_type": "code",
   "execution_count": 12,
   "id": "272d53b5",
   "metadata": {},
   "outputs": [],
   "source": [
    "# print([field[x][y].concetration_absorbate for x in range(len(field[:][0])) for y in range(len(field[x][:]))])\n",
    "# print([field[x][y].concetration_liquid for x in range(len(field[:][0])) for y in range(len(field[x][:]))])"
   ]
  },
  {
   "cell_type": "code",
   "execution_count": null,
   "id": "deb5364a",
   "metadata": {},
   "outputs": [],
   "source": []
  }
 ],
 "metadata": {
  "kernelspec": {
   "display_name": "Python 3 (ipykernel)",
   "language": "python",
   "name": "python3"
  },
  "language_info": {
   "codemirror_mode": {
    "name": "ipython",
    "version": 3
   },
   "file_extension": ".py",
   "mimetype": "text/x-python",
   "name": "python",
   "nbconvert_exporter": "python",
   "pygments_lexer": "ipython3",
   "version": "3.10.9"
  }
 },
 "nbformat": 4,
 "nbformat_minor": 5
}
