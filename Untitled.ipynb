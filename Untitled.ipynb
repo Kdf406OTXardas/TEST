{
 "cells": [
  {
   "cell_type": "code",
   "execution_count": 1,
   "id": "1c3be250",
   "metadata": {},
   "outputs": [],
   "source": [
    "import numpy as np\n",
    "# import random as rnd\n"
   ]
  },
  {
   "cell_type": "code",
   "execution_count": 2,
   "id": "e8fb0a89",
   "metadata": {},
   "outputs": [],
   "source": [
    "first_concentration = 0.05\n",
    "absolut_concentration = []\n",
    "percent_adsorbtion = []\n",
    "percent_desorbtion = []\n",
    "for i in range(0,10000,1):\n",
    "    absolut_concentration.append(i)\n",
    "    percent_adsorbtion.append(i*0.1)\n",
    "    percent_desorbtion.append(1 + i*0.99)\n",
    "SIZE_FIELD = 10\n",
    "\n",
    "concentration_ad = dict(zip(absolut_concentration,percent_adsorbtion))\n",
    "concentration_des = dict(zip(absolut_concentration,percent_desorbtion))"
   ]
  },
  {
   "cell_type": "code",
   "execution_count": 3,
   "id": "a0883068",
   "metadata": {},
   "outputs": [
    {
     "name": "stdout",
     "output_type": "stream",
     "text": [
      "[  0. 500.   0.   0.   0.   0.   0.   0.   0.   0.   0.   0.]\n"
     ]
    }
   ],
   "source": [
    "field = np.zeros(SIZE_FIELD + 2)\n",
    "field[1] = 500\n",
    "print(field)"
   ]
  },
  {
   "cell_type": "code",
   "execution_count": 4,
   "id": "0c930102",
   "metadata": {},
   "outputs": [
    {
     "name": "stdout",
     "output_type": "stream",
     "text": [
      "50.0\n"
     ]
    }
   ],
   "source": [
    "print(concentration_ad[500])"
   ]
  },
  {
   "cell_type": "code",
   "execution_count": 6,
   "id": "283355ea",
   "metadata": {},
   "outputs": [
    {
     "name": "stdout",
     "output_type": "stream",
     "text": [
      " field[i + 1] 500.0\n",
      "field[i + 2] 0.0\n",
      "cur_cell - negh_cell 500.0\n",
      "concentration_ad[cur_cell] 50.0\n",
      "concentration_des[negh_cell] 1.0\n",
      "0.0\n",
      "[  0. 500.   0.   0.   0.   0.   0.   0.   0.   0.   0.   0.]\n",
      " field[i + 1] 0.0\n",
      "field[i + 2] 0.0\n",
      "cur_cell - negh_cell 0.0\n",
      "concentration_ad[cur_cell] 0.0\n",
      "concentration_des[negh_cell] 1.0\n",
      "0.0\n",
      "[  0. 500.   0.   0.   0.   0.   0.   0.   0.   0.   0.   0.]\n",
      " field[i + 1] 0.0\n",
      "field[i + 2] 0.0\n",
      "cur_cell - negh_cell 0.0\n",
      "concentration_ad[cur_cell] 0.0\n",
      "concentration_des[negh_cell] 1.0\n",
      "0.0\n",
      "[  0. 500.   0.   0.   0.   0.   0.   0.   0.   0.   0.   0.]\n",
      " field[i + 1] 0.0\n",
      "field[i + 2] 0.0\n",
      "cur_cell - negh_cell 0.0\n",
      "concentration_ad[cur_cell] 0.0\n",
      "concentration_des[negh_cell] 1.0\n",
      "0.0\n",
      "[  0. 500.   0.   0.   0.   0.   0.   0.   0.   0.   0.   0.]\n"
     ]
    }
   ],
   "source": [
    "for i in range(4):\n",
    "    print(f\" field[i + 1] { field[i + 1]}\")\n",
    "    print(f\"field[i + 2] {field[i + 2]}\")\n",
    "    cur_cell = field[i + 1]\n",
    "    negh_cell = field[i + 2]\n",
    "    min_delta = min((cur_cell - negh_cell), concentration_ad[negh_cell], concentration_des[cur_cell])\n",
    "    print(f\"cur_cell - negh_cell {cur_cell - negh_cell}\")\n",
    "    print(f\"concentration_ad[cur_cell] {concentration_ad[cur_cell]}\")\n",
    "    print(f\"concentration_des[negh_cell] {concentration_des[negh_cell]}\")\n",
    "    print(min_delta)\n",
    "    field[i + 2] += min_delta * 0.5\n",
    "    field[i + 1] -= min_delta\n",
    "    print(field)"
   ]
  },
  {
   "cell_type": "code",
   "execution_count": null,
   "id": "e0e9b6dd",
   "metadata": {},
   "outputs": [],
   "source": []
  }
 ],
 "metadata": {
  "kernelspec": {
   "display_name": "Python 3 (ipykernel)",
   "language": "python",
   "name": "python3"
  },
  "language_info": {
   "codemirror_mode": {
    "name": "ipython",
    "version": 3
   },
   "file_extension": ".py",
   "mimetype": "text/x-python",
   "name": "python",
   "nbconvert_exporter": "python",
   "pygments_lexer": "ipython3",
   "version": "3.10.9"
  }
 },
 "nbformat": 4,
 "nbformat_minor": 5
}
